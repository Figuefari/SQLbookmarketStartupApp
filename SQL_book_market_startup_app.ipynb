{
 "cells": [
  {
   "cell_type": "markdown",
   "metadata": {},
   "source": [
    "# Análisis de Mercado de libros"
   ]
  },
  {
   "cell_type": "markdown",
   "metadata": {},
   "source": [
    "Producto del surgimiento de nuevas startup que se dedican a desarrollar aplicaciones de libros, nos vemos con la misión de estudiar una base de datos de características de estos para generar una propuesta de valor para un nuevo producto."
   ]
  },
  {
   "cell_type": "markdown",
   "metadata": {},
   "source": [
    "Usaremos SQL para estudiar los datos que disponemos y así sacar relaciones claras que nos orienten con el objetivo de generar valor de acuerdo a las conclusiones que veamos en ciertas características.\n",
    "\n",
    "Algunas de las características que vamos a observar son:\n",
    "\n",
    " - Número de libros publicados en tal periodo.\n",
    " - Número de reseñas y calificación de los usuarios.\n",
    " - Editoriales con más libros.\n",
    " - Autores mejor calificados.\n"
   ]
  },
  {
   "cell_type": "markdown",
   "metadata": {},
   "source": [
    "**Tabla de contenido:**\n",
    "\n",
    "1. Inicialización\n",
    "\n",
    "    - Librerías\n",
    "    - Acceso a la base de datos\n",
    "    \n",
    "    \n",
    "2. Estudio de los datos\n",
    "\n",
    "    - Objetivos específicos\n",
    "    - Tablas\n",
    "    - Descripción de los datos\n",
    "\n",
    "\n",
    "3. Consultas SQL\n",
    "\n",
    "\n",
    "4. Conclusiones y recomendaciones"
   ]
  },
  {
   "cell_type": "markdown",
   "metadata": {},
   "source": [
    "## Inicialización"
   ]
  },
  {
   "cell_type": "markdown",
   "metadata": {},
   "source": [
    "### Librerías"
   ]
  },
  {
   "cell_type": "code",
   "execution_count": 1,
   "metadata": {},
   "outputs": [],
   "source": [
    "# importamos librerías\n",
    "import pandas as pd\n",
    "from sqlalchemy import create_engine"
   ]
  },
  {
   "cell_type": "markdown",
   "metadata": {},
   "source": [
    "### Acceso a la base de datos"
   ]
  },
  {
   "cell_type": "code",
   "execution_count": 2,
   "metadata": {},
   "outputs": [],
   "source": [
    "# Configuración de la base de datos\n",
    "db_config = {'user': 'practicum_student',         # nombre de usuario\n",
    "             'pwd': 's65BlTKV3faNIGhmvJVzOqhs', # contraseña\n",
    "             'host': 'rc1b-wcoijxj3yxfsf3fs.mdb.yandexcloud.net',\n",
    "             'port': 6432,              # puerto de conexión\n",
    "             'db': 'data-analyst-final-project-db'}          # nombre de la base de datos\n",
    "\n",
    "connection_string = 'postgresql://{}:{}@{}:{}/{}'.format(db_config['user'],\n",
    "                                                                     db_config['pwd'],\n",
    "                                                                       db_config['host'],\n",
    "                                                                       db_config['port'],\n",
    "                                                                       db_config['db'])"
   ]
  },
  {
   "cell_type": "code",
   "execution_count": 3,
   "metadata": {},
   "outputs": [],
   "source": [
    "engine = create_engine(connection_string, connect_args={'sslmode':'require'})"
   ]
  },
  {
   "cell_type": "markdown",
   "metadata": {},
   "source": [
    "## Estudio de los datos"
   ]
  },
  {
   "cell_type": "markdown",
   "metadata": {},
   "source": [
    "### Objetivos específicos"
   ]
  },
  {
   "cell_type": "markdown",
   "metadata": {},
   "source": [
    "Se nos ha encomendado algunas tareas específicas para observar el comportamiento de los datos:\n",
    "\n",
    "*Primera tarea:*\n",
    "-  Encontrar el número de libros publicados después del 1 de enero de 2000.\n",
    "\n",
    "*Segunda tarea:*\n",
    "- Encontrar el número de reseñas de usuarios y la calificación promedio para cada libro.\n",
    "\n",
    "*Tercera tarea:*\n",
    "- Identificar la editorial que ha publicado el mayor número de libros con más de 50 páginas.\n",
    "\n",
    "*Cuarta tarea:*\n",
    "- Identificar al autor con la más alta calificación promedio por libros (ver solo los libros con al menos 50 calificaciones).\n",
    "\n",
    "*Quinta tarea:*\n",
    "- Encontrar el número promedio de reseñas entre los usuarios que calificaron más de 50 libros.\n"
   ]
  },
  {
   "cell_type": "markdown",
   "metadata": {},
   "source": [
    "### Tablas a utilizar"
   ]
  },
  {
   "cell_type": "markdown",
   "metadata": {},
   "source": [
    "**Diagrama de datos:**"
   ]
  },
  {
   "cell_type": "markdown",
   "metadata": {},
   "source": [
    "<img src=https://images2.imgbox.com/fd/3e/ONpfpQRh_o.png width='700'>"
   ]
  },
  {
   "cell_type": "markdown",
   "metadata": {},
   "source": [
    "De acuerdo al diagrama, tenemos **5 tablas**: books, authors, ratings, reviews y publishers. Estas tablas hacen referencia a la información de los libros; a la de autores; la valoración dada por los usuarios; las reseñas que han realizado los usuarios; y finalmente, la editorial que ha publicado el libro."
   ]
  },
  {
   "cell_type": "markdown",
   "metadata": {},
   "source": [
    "- La **tabla books** es la única que se relaciona a todas las otras directamente. Presenta una clave primaria: *book_id* que se relaciona a la clave foranea *book_id* de la **tabla ratings** y de la **tabla reviews**.\n",
    "\n",
    "\n",
    "- La **tabla authors** se relaciona por su clave *author_id* a la clave foránea en **books**.\n",
    "\n",
    "\n",
    "- La **tabla publishers** se relaciona por su clave *publisher_id* a la clave foránea en **books**."
   ]
  },
  {
   "cell_type": "markdown",
   "metadata": {},
   "source": [
    "#### Primera tabla: books"
   ]
  },
  {
   "cell_type": "code",
   "execution_count": 4,
   "metadata": {},
   "outputs": [],
   "source": [
    "# Cargamos la tabla \n",
    "books = \"\"\"SELECT * \n",
    "\n",
    "FROM\n",
    "    books\n",
    "    \n",
    "LIMIT 5;\n",
    "\n",
    "    \"\"\""
   ]
  },
  {
   "cell_type": "code",
   "execution_count": 5,
   "metadata": {
    "scrolled": true
   },
   "outputs": [
    {
     "data": {
      "text/html": [
       "<div>\n",
       "<style scoped>\n",
       "    .dataframe tbody tr th:only-of-type {\n",
       "        vertical-align: middle;\n",
       "    }\n",
       "\n",
       "    .dataframe tbody tr th {\n",
       "        vertical-align: top;\n",
       "    }\n",
       "\n",
       "    .dataframe thead th {\n",
       "        text-align: right;\n",
       "    }\n",
       "</style>\n",
       "<table border=\"1\" class=\"dataframe\">\n",
       "  <thead>\n",
       "    <tr style=\"text-align: right;\">\n",
       "      <th></th>\n",
       "      <th>book_id</th>\n",
       "      <th>author_id</th>\n",
       "      <th>title</th>\n",
       "      <th>num_pages</th>\n",
       "      <th>publication_date</th>\n",
       "      <th>publisher_id</th>\n",
       "    </tr>\n",
       "  </thead>\n",
       "  <tbody>\n",
       "    <tr>\n",
       "      <th>0</th>\n",
       "      <td>1</td>\n",
       "      <td>546</td>\n",
       "      <td>'Salem's Lot</td>\n",
       "      <td>594</td>\n",
       "      <td>2005-11-01</td>\n",
       "      <td>93</td>\n",
       "    </tr>\n",
       "    <tr>\n",
       "      <th>1</th>\n",
       "      <td>2</td>\n",
       "      <td>465</td>\n",
       "      <td>1 000 Places to See Before You Die</td>\n",
       "      <td>992</td>\n",
       "      <td>2003-05-22</td>\n",
       "      <td>336</td>\n",
       "    </tr>\n",
       "    <tr>\n",
       "      <th>2</th>\n",
       "      <td>3</td>\n",
       "      <td>407</td>\n",
       "      <td>13 Little Blue Envelopes (Little Blue Envelope...</td>\n",
       "      <td>322</td>\n",
       "      <td>2010-12-21</td>\n",
       "      <td>135</td>\n",
       "    </tr>\n",
       "    <tr>\n",
       "      <th>3</th>\n",
       "      <td>4</td>\n",
       "      <td>82</td>\n",
       "      <td>1491: New Revelations of the Americas Before C...</td>\n",
       "      <td>541</td>\n",
       "      <td>2006-10-10</td>\n",
       "      <td>309</td>\n",
       "    </tr>\n",
       "    <tr>\n",
       "      <th>4</th>\n",
       "      <td>5</td>\n",
       "      <td>125</td>\n",
       "      <td>1776</td>\n",
       "      <td>386</td>\n",
       "      <td>2006-07-04</td>\n",
       "      <td>268</td>\n",
       "    </tr>\n",
       "  </tbody>\n",
       "</table>\n",
       "</div>"
      ],
      "text/plain": [
       "   book_id  author_id                                              title  \\\n",
       "0        1        546                                       'Salem's Lot   \n",
       "1        2        465                 1 000 Places to See Before You Die   \n",
       "2        3        407  13 Little Blue Envelopes (Little Blue Envelope...   \n",
       "3        4         82  1491: New Revelations of the Americas Before C...   \n",
       "4        5        125                                               1776   \n",
       "\n",
       "   num_pages publication_date  publisher_id  \n",
       "0        594       2005-11-01            93  \n",
       "1        992       2003-05-22           336  \n",
       "2        322       2010-12-21           135  \n",
       "3        541       2006-10-10           309  \n",
       "4        386       2006-07-04           268  "
      ]
     },
     "execution_count": 5,
     "metadata": {},
     "output_type": "execute_result"
    }
   ],
   "source": [
    "# Leemos las 5 primeras filas del archivo\n",
    "pd.io.sql.read_sql(books, con = engine)"
   ]
  },
  {
   "cell_type": "markdown",
   "metadata": {},
   "source": [
    "**Descripión de los datos:**\n",
    "\n",
    "- `book_id`: identificación del libro.\n",
    "- `author_id`: identificación del autor o autora.\n",
    "- `title`: título.\n",
    "- `num_pages`: número de páginas.\n",
    "- `publication_date`: fecha de la publicación.\n",
    "- `publisher_id`: identificación de la editorial."
   ]
  },
  {
   "cell_type": "markdown",
   "metadata": {},
   "source": [
    "**Valores nulos y duplicados:**"
   ]
  },
  {
   "cell_type": "code",
   "execution_count": 6,
   "metadata": {
    "scrolled": true
   },
   "outputs": [],
   "source": [
    "# Valores nulos\n",
    "book_id_nulls = (\"\"\"\n",
    "SELECT COUNT(book_id) AS null_book_id FROM books WHERE book_id IS NULL;\n",
    "\"\"\")\n",
    "author_id_nulls = (\"\"\"\n",
    "SELECT COUNT(author_id) AS null_author_id FROM books WHERE author_id IS NULL;\n",
    "\"\"\")\n",
    "title_nulls = (\"\"\"\n",
    "SELECT COUNT(title) AS null_title FROM books WHERE title IS NULL;\n",
    "\"\"\")\n",
    "num_pages_nulls =(\"\"\" \n",
    "SELECT COUNT(num_pages) AS null_num_pages FROM books WHERE num_pages IS NULL;\n",
    "\"\"\")\n",
    "publication_date_nulls = (\"\"\"\n",
    "SELECT COUNT(publication_date) AS null_publication_date FROM books WHERE publication_date IS NULL;\n",
    "\"\"\")\n",
    "publisher_id_nulls = (\"\"\"\n",
    "SELECT COUNT(publisher_id) AS null_publisher_id FROM books WHERE publisher_id IS NULL;\n",
    "\"\"\")"
   ]
  },
  {
   "cell_type": "code",
   "execution_count": 7,
   "metadata": {
    "scrolled": false
   },
   "outputs": [
    {
     "name": "stdout",
     "output_type": "stream",
     "text": [
      "   null_book_id\n",
      "0             0\n",
      "   null_author_id\n",
      "0               0\n",
      "   null_title\n",
      "0           0\n",
      "   null_num_pages\n",
      "0               0\n",
      "   null_publication_date\n",
      "0                      0\n",
      "   null_publisher_id\n",
      "0                  0\n"
     ]
    }
   ],
   "source": [
    "# Valores ausentes\n",
    "print(pd.io.sql.read_sql(book_id_nulls, con = engine))\n",
    "print(pd.io.sql.read_sql(author_id_nulls, con = engine))\n",
    "print(pd.io.sql.read_sql(title_nulls, con = engine))\n",
    "print(pd.io.sql.read_sql(num_pages_nulls, con = engine))\n",
    "print(pd.io.sql.read_sql(publication_date_nulls, con = engine))\n",
    "print(pd.io.sql.read_sql(publisher_id_nulls, con = engine))"
   ]
  },
  {
   "cell_type": "markdown",
   "metadata": {},
   "source": [
    "**NO existen valores nulos en nuestra tabla de libros.**"
   ]
  },
  {
   "cell_type": "code",
   "execution_count": 8,
   "metadata": {},
   "outputs": [
    {
     "data": {
      "text/html": [
       "<div>\n",
       "<style scoped>\n",
       "    .dataframe tbody tr th:only-of-type {\n",
       "        vertical-align: middle;\n",
       "    }\n",
       "\n",
       "    .dataframe tbody tr th {\n",
       "        vertical-align: top;\n",
       "    }\n",
       "\n",
       "    .dataframe thead th {\n",
       "        text-align: right;\n",
       "    }\n",
       "</style>\n",
       "<table border=\"1\" class=\"dataframe\">\n",
       "  <thead>\n",
       "    <tr style=\"text-align: right;\">\n",
       "      <th></th>\n",
       "      <th>book_id</th>\n",
       "      <th>author_id</th>\n",
       "      <th>title</th>\n",
       "      <th>num_pages</th>\n",
       "      <th>publication_date</th>\n",
       "      <th>publisher_id</th>\n",
       "      <th>num_rep</th>\n",
       "    </tr>\n",
       "  </thead>\n",
       "  <tbody>\n",
       "  </tbody>\n",
       "</table>\n",
       "</div>"
      ],
      "text/plain": [
       "Empty DataFrame\n",
       "Columns: [book_id, author_id, title, num_pages, publication_date, publisher_id, num_rep]\n",
       "Index: []"
      ]
     },
     "execution_count": 8,
     "metadata": {},
     "output_type": "execute_result"
    }
   ],
   "source": [
    "# Valores duplicados\n",
    "dup_books = (\"\"\"\n",
    "\n",
    "SELECT\n",
    "    book_id, author_id, title, num_pages, publication_date, publisher_id,\n",
    "    COUNT(*) AS num_rep\n",
    "\n",
    "FROM \n",
    "    books\n",
    "\n",
    "GROUP BY\n",
    "    book_id, author_id, title, num_pages, publication_date, publisher_id\n",
    "\n",
    "HAVING\n",
    "    COUNT(*)>1;\n",
    "    \n",
    "    \"\"\")\n",
    "\n",
    "\n",
    "# Leemos los valores duplicados\n",
    "pd.io.sql.read_sql(dup_books, con = engine)"
   ]
  },
  {
   "cell_type": "markdown",
   "metadata": {},
   "source": [
    "**No existen registros duplicados en la tabla books.**"
   ]
  },
  {
   "cell_type": "markdown",
   "metadata": {},
   "source": [
    "#### Segunda tabla: authors"
   ]
  },
  {
   "cell_type": "code",
   "execution_count": 9,
   "metadata": {},
   "outputs": [],
   "source": [
    "# Cargamos la tabla \n",
    "authors = \"\"\"SELECT * \n",
    "\n",
    "FROM\n",
    "    authors\n",
    "    \n",
    "LIMIT 5;\n",
    "\n",
    "    \"\"\""
   ]
  },
  {
   "cell_type": "code",
   "execution_count": 10,
   "metadata": {
    "scrolled": true
   },
   "outputs": [
    {
     "data": {
      "text/html": [
       "<div>\n",
       "<style scoped>\n",
       "    .dataframe tbody tr th:only-of-type {\n",
       "        vertical-align: middle;\n",
       "    }\n",
       "\n",
       "    .dataframe tbody tr th {\n",
       "        vertical-align: top;\n",
       "    }\n",
       "\n",
       "    .dataframe thead th {\n",
       "        text-align: right;\n",
       "    }\n",
       "</style>\n",
       "<table border=\"1\" class=\"dataframe\">\n",
       "  <thead>\n",
       "    <tr style=\"text-align: right;\">\n",
       "      <th></th>\n",
       "      <th>author_id</th>\n",
       "      <th>author</th>\n",
       "    </tr>\n",
       "  </thead>\n",
       "  <tbody>\n",
       "    <tr>\n",
       "      <th>0</th>\n",
       "      <td>1</td>\n",
       "      <td>A.S. Byatt</td>\n",
       "    </tr>\n",
       "    <tr>\n",
       "      <th>1</th>\n",
       "      <td>2</td>\n",
       "      <td>Aesop/Laura Harris/Laura Gibbs</td>\n",
       "    </tr>\n",
       "    <tr>\n",
       "      <th>2</th>\n",
       "      <td>3</td>\n",
       "      <td>Agatha Christie</td>\n",
       "    </tr>\n",
       "    <tr>\n",
       "      <th>3</th>\n",
       "      <td>4</td>\n",
       "      <td>Alan Brennert</td>\n",
       "    </tr>\n",
       "    <tr>\n",
       "      <th>4</th>\n",
       "      <td>5</td>\n",
       "      <td>Alan Moore/David   Lloyd</td>\n",
       "    </tr>\n",
       "  </tbody>\n",
       "</table>\n",
       "</div>"
      ],
      "text/plain": [
       "   author_id                          author\n",
       "0          1                      A.S. Byatt\n",
       "1          2  Aesop/Laura Harris/Laura Gibbs\n",
       "2          3                 Agatha Christie\n",
       "3          4                   Alan Brennert\n",
       "4          5        Alan Moore/David   Lloyd"
      ]
     },
     "execution_count": 10,
     "metadata": {},
     "output_type": "execute_result"
    }
   ],
   "source": [
    "# Leemos las 5 primeras filas del archivo\n",
    "pd.io.sql.read_sql(authors, con = engine)"
   ]
  },
  {
   "cell_type": "markdown",
   "metadata": {},
   "source": [
    "**Descripión de los datos:**\n",
    "\n",
    "- `author_id`: identificación del autor o autora.\n",
    "- `author`: el autor o la autora."
   ]
  },
  {
   "cell_type": "markdown",
   "metadata": {},
   "source": [
    "**Valores nulos y duplicados:**"
   ]
  },
  {
   "cell_type": "code",
   "execution_count": 11,
   "metadata": {
    "scrolled": true
   },
   "outputs": [],
   "source": [
    "# Valores nulos\n",
    "table2_author_id_nulls = (\"\"\"\n",
    "SELECT COUNT(author_id) AS null_author_id FROM authors WHERE author_id IS NULL;\n",
    "\"\"\")\n",
    "table2_author_nulls = (\"\"\"\n",
    "SELECT COUNT(author) AS null_author FROM authors WHERE author IS NULL;\n",
    "\"\"\")"
   ]
  },
  {
   "cell_type": "code",
   "execution_count": 12,
   "metadata": {
    "scrolled": false
   },
   "outputs": [
    {
     "name": "stdout",
     "output_type": "stream",
     "text": [
      "   null_author_id\n",
      "0               0\n",
      "   null_author\n",
      "0            0\n"
     ]
    }
   ],
   "source": [
    "# Valores ausentes\n",
    "print(pd.io.sql.read_sql(table2_author_id_nulls, con = engine))\n",
    "print(pd.io.sql.read_sql(table2_author_nulls, con = engine))"
   ]
  },
  {
   "cell_type": "markdown",
   "metadata": {},
   "source": [
    "**NO existen valores nulos en nuestra tabla de autores.**"
   ]
  },
  {
   "cell_type": "code",
   "execution_count": 13,
   "metadata": {},
   "outputs": [
    {
     "data": {
      "text/html": [
       "<div>\n",
       "<style scoped>\n",
       "    .dataframe tbody tr th:only-of-type {\n",
       "        vertical-align: middle;\n",
       "    }\n",
       "\n",
       "    .dataframe tbody tr th {\n",
       "        vertical-align: top;\n",
       "    }\n",
       "\n",
       "    .dataframe thead th {\n",
       "        text-align: right;\n",
       "    }\n",
       "</style>\n",
       "<table border=\"1\" class=\"dataframe\">\n",
       "  <thead>\n",
       "    <tr style=\"text-align: right;\">\n",
       "      <th></th>\n",
       "      <th>author_id</th>\n",
       "      <th>author</th>\n",
       "      <th>num_rep</th>\n",
       "    </tr>\n",
       "  </thead>\n",
       "  <tbody>\n",
       "  </tbody>\n",
       "</table>\n",
       "</div>"
      ],
      "text/plain": [
       "Empty DataFrame\n",
       "Columns: [author_id, author, num_rep]\n",
       "Index: []"
      ]
     },
     "execution_count": 13,
     "metadata": {},
     "output_type": "execute_result"
    }
   ],
   "source": [
    "# Valores duplicados\n",
    "dup_authors = (\"\"\"\n",
    "\n",
    "SELECT\n",
    "    author_id, author,\n",
    "    COUNT(*) AS num_rep\n",
    "\n",
    "FROM \n",
    "    authors\n",
    "\n",
    "GROUP BY\n",
    "    author_id, author\n",
    "\n",
    "HAVING\n",
    "    COUNT(*)>1;\n",
    "    \n",
    "    \"\"\")\n",
    "\n",
    "# Leemos los valores duplicados\n",
    "pd.io.sql.read_sql(dup_authors, con = engine)"
   ]
  },
  {
   "cell_type": "markdown",
   "metadata": {},
   "source": [
    "**No existen registros duplicados en la tabla authors.**"
   ]
  },
  {
   "cell_type": "markdown",
   "metadata": {},
   "source": [
    "#### Tercera tabla: publishers"
   ]
  },
  {
   "cell_type": "code",
   "execution_count": 14,
   "metadata": {},
   "outputs": [],
   "source": [
    "# Cargamos la tabla \n",
    "publishers = \"\"\"SELECT * \n",
    "\n",
    "FROM\n",
    "    publishers\n",
    "    \n",
    "LIMIT 5;\n",
    "\n",
    "    \"\"\""
   ]
  },
  {
   "cell_type": "code",
   "execution_count": 15,
   "metadata": {
    "scrolled": true
   },
   "outputs": [
    {
     "data": {
      "text/html": [
       "<div>\n",
       "<style scoped>\n",
       "    .dataframe tbody tr th:only-of-type {\n",
       "        vertical-align: middle;\n",
       "    }\n",
       "\n",
       "    .dataframe tbody tr th {\n",
       "        vertical-align: top;\n",
       "    }\n",
       "\n",
       "    .dataframe thead th {\n",
       "        text-align: right;\n",
       "    }\n",
       "</style>\n",
       "<table border=\"1\" class=\"dataframe\">\n",
       "  <thead>\n",
       "    <tr style=\"text-align: right;\">\n",
       "      <th></th>\n",
       "      <th>publisher_id</th>\n",
       "      <th>publisher</th>\n",
       "    </tr>\n",
       "  </thead>\n",
       "  <tbody>\n",
       "    <tr>\n",
       "      <th>0</th>\n",
       "      <td>1</td>\n",
       "      <td>Ace</td>\n",
       "    </tr>\n",
       "    <tr>\n",
       "      <th>1</th>\n",
       "      <td>2</td>\n",
       "      <td>Ace Book</td>\n",
       "    </tr>\n",
       "    <tr>\n",
       "      <th>2</th>\n",
       "      <td>3</td>\n",
       "      <td>Ace Books</td>\n",
       "    </tr>\n",
       "    <tr>\n",
       "      <th>3</th>\n",
       "      <td>4</td>\n",
       "      <td>Ace Hardcover</td>\n",
       "    </tr>\n",
       "    <tr>\n",
       "      <th>4</th>\n",
       "      <td>5</td>\n",
       "      <td>Addison Wesley Publishing Company</td>\n",
       "    </tr>\n",
       "  </tbody>\n",
       "</table>\n",
       "</div>"
      ],
      "text/plain": [
       "   publisher_id                          publisher\n",
       "0             1                                Ace\n",
       "1             2                           Ace Book\n",
       "2             3                          Ace Books\n",
       "3             4                      Ace Hardcover\n",
       "4             5  Addison Wesley Publishing Company"
      ]
     },
     "execution_count": 15,
     "metadata": {},
     "output_type": "execute_result"
    }
   ],
   "source": [
    "# Leemos las 5 primeras filas del archivo\n",
    "pd.io.sql.read_sql(publishers, con = engine)"
   ]
  },
  {
   "cell_type": "markdown",
   "metadata": {},
   "source": [
    "**Descripión de los datos:**\n",
    "\n",
    "- `publisher_id`: identificación de la editorial.\n",
    "- `publisher`: la editorial."
   ]
  },
  {
   "cell_type": "markdown",
   "metadata": {},
   "source": [
    "**Valores nulos y duplicados:**"
   ]
  },
  {
   "cell_type": "code",
   "execution_count": 16,
   "metadata": {
    "scrolled": true
   },
   "outputs": [],
   "source": [
    "# Valores nulos\n",
    "table3_publisher_id_nulls = (\"\"\"\n",
    "SELECT COUNT(publisher_id) AS null_publisher_id FROM publishers WHERE publisher_id IS NULL;\n",
    "\"\"\")\n",
    "table3_publisher_nulls = (\"\"\"\n",
    "SELECT COUNT(publisher) AS null_publisher FROM publishers WHERE publisher IS NULL;\n",
    "\"\"\")"
   ]
  },
  {
   "cell_type": "code",
   "execution_count": 17,
   "metadata": {
    "scrolled": false
   },
   "outputs": [
    {
     "name": "stdout",
     "output_type": "stream",
     "text": [
      "   null_publisher_id\n",
      "0                  0\n",
      "   null_publisher\n",
      "0               0\n"
     ]
    }
   ],
   "source": [
    "# Valores ausentes\n",
    "print(pd.io.sql.read_sql(table3_publisher_id_nulls, con = engine))\n",
    "print(pd.io.sql.read_sql(table3_publisher_nulls, con = engine))"
   ]
  },
  {
   "cell_type": "markdown",
   "metadata": {},
   "source": [
    "**NO existen valores nulos en nuestra tabla de editoriales.**"
   ]
  },
  {
   "cell_type": "code",
   "execution_count": 18,
   "metadata": {},
   "outputs": [
    {
     "data": {
      "text/html": [
       "<div>\n",
       "<style scoped>\n",
       "    .dataframe tbody tr th:only-of-type {\n",
       "        vertical-align: middle;\n",
       "    }\n",
       "\n",
       "    .dataframe tbody tr th {\n",
       "        vertical-align: top;\n",
       "    }\n",
       "\n",
       "    .dataframe thead th {\n",
       "        text-align: right;\n",
       "    }\n",
       "</style>\n",
       "<table border=\"1\" class=\"dataframe\">\n",
       "  <thead>\n",
       "    <tr style=\"text-align: right;\">\n",
       "      <th></th>\n",
       "      <th>publisher_id</th>\n",
       "      <th>publisher</th>\n",
       "      <th>num_rep</th>\n",
       "    </tr>\n",
       "  </thead>\n",
       "  <tbody>\n",
       "  </tbody>\n",
       "</table>\n",
       "</div>"
      ],
      "text/plain": [
       "Empty DataFrame\n",
       "Columns: [publisher_id, publisher, num_rep]\n",
       "Index: []"
      ]
     },
     "execution_count": 18,
     "metadata": {},
     "output_type": "execute_result"
    }
   ],
   "source": [
    "# Valores duplicados\n",
    "dup_publishers = (\"\"\"\n",
    "\n",
    "SELECT\n",
    "    publisher_id, publisher,\n",
    "    COUNT(*) AS num_rep\n",
    "\n",
    "FROM \n",
    "    publishers\n",
    "\n",
    "GROUP BY\n",
    "    publisher_id, publisher\n",
    "\n",
    "HAVING\n",
    "    COUNT(*)>1;\n",
    "    \n",
    "    \"\"\")\n",
    "\n",
    "# Leemos los valores duplicados\n",
    "pd.io.sql.read_sql(dup_publishers, con = engine)"
   ]
  },
  {
   "cell_type": "markdown",
   "metadata": {},
   "source": [
    "**No existen registros duplicados en la tabla publishers.**"
   ]
  },
  {
   "cell_type": "markdown",
   "metadata": {},
   "source": [
    "#### Cuarta tabla: ratings"
   ]
  },
  {
   "cell_type": "code",
   "execution_count": 19,
   "metadata": {},
   "outputs": [],
   "source": [
    "# Cargamos la tabla \n",
    "ratings = \"\"\"SELECT * \n",
    "\n",
    "FROM\n",
    "    ratings\n",
    "    \n",
    "LIMIT 5;\n",
    "\n",
    "    \"\"\""
   ]
  },
  {
   "cell_type": "code",
   "execution_count": 20,
   "metadata": {
    "scrolled": true
   },
   "outputs": [
    {
     "data": {
      "text/html": [
       "<div>\n",
       "<style scoped>\n",
       "    .dataframe tbody tr th:only-of-type {\n",
       "        vertical-align: middle;\n",
       "    }\n",
       "\n",
       "    .dataframe tbody tr th {\n",
       "        vertical-align: top;\n",
       "    }\n",
       "\n",
       "    .dataframe thead th {\n",
       "        text-align: right;\n",
       "    }\n",
       "</style>\n",
       "<table border=\"1\" class=\"dataframe\">\n",
       "  <thead>\n",
       "    <tr style=\"text-align: right;\">\n",
       "      <th></th>\n",
       "      <th>rating_id</th>\n",
       "      <th>book_id</th>\n",
       "      <th>username</th>\n",
       "      <th>rating</th>\n",
       "    </tr>\n",
       "  </thead>\n",
       "  <tbody>\n",
       "    <tr>\n",
       "      <th>0</th>\n",
       "      <td>1</td>\n",
       "      <td>1</td>\n",
       "      <td>ryanfranco</td>\n",
       "      <td>4</td>\n",
       "    </tr>\n",
       "    <tr>\n",
       "      <th>1</th>\n",
       "      <td>2</td>\n",
       "      <td>1</td>\n",
       "      <td>grantpatricia</td>\n",
       "      <td>2</td>\n",
       "    </tr>\n",
       "    <tr>\n",
       "      <th>2</th>\n",
       "      <td>3</td>\n",
       "      <td>1</td>\n",
       "      <td>brandtandrea</td>\n",
       "      <td>5</td>\n",
       "    </tr>\n",
       "    <tr>\n",
       "      <th>3</th>\n",
       "      <td>4</td>\n",
       "      <td>2</td>\n",
       "      <td>lorichen</td>\n",
       "      <td>3</td>\n",
       "    </tr>\n",
       "    <tr>\n",
       "      <th>4</th>\n",
       "      <td>5</td>\n",
       "      <td>2</td>\n",
       "      <td>mariokeller</td>\n",
       "      <td>2</td>\n",
       "    </tr>\n",
       "  </tbody>\n",
       "</table>\n",
       "</div>"
      ],
      "text/plain": [
       "   rating_id  book_id       username  rating\n",
       "0          1        1     ryanfranco       4\n",
       "1          2        1  grantpatricia       2\n",
       "2          3        1   brandtandrea       5\n",
       "3          4        2       lorichen       3\n",
       "4          5        2    mariokeller       2"
      ]
     },
     "execution_count": 20,
     "metadata": {},
     "output_type": "execute_result"
    }
   ],
   "source": [
    "# Leemos las 5 primeras filas del archivo\n",
    "pd.io.sql.read_sql(ratings, con = engine)"
   ]
  },
  {
   "cell_type": "markdown",
   "metadata": {},
   "source": [
    "**Descripión de los datos:**\n",
    "\n",
    "- `rating_id`: identificación de la calificación.\n",
    "- `book_id`: identificación del libro.\n",
    "- `username`: el nombre del usuario que revisó el libro.\n",
    "- `rating`: calificación."
   ]
  },
  {
   "cell_type": "markdown",
   "metadata": {},
   "source": [
    "**Valores nulos y duplicados:**"
   ]
  },
  {
   "cell_type": "code",
   "execution_count": 21,
   "metadata": {
    "scrolled": true
   },
   "outputs": [],
   "source": [
    "# Valores nulos\n",
    "table_4_rating_id_nulls = (\"\"\"\n",
    "SELECT COUNT(rating_id) AS null_rating_id FROM ratings WHERE rating_id IS NULL;\n",
    "\"\"\")\n",
    "table4_book_id_nulls = (\"\"\"\n",
    "SELECT COUNT(book_id) AS null_book_id FROM ratings WHERE book_id IS NULL;\n",
    "\"\"\")"
   ]
  },
  {
   "cell_type": "code",
   "execution_count": 22,
   "metadata": {
    "scrolled": false
   },
   "outputs": [
    {
     "name": "stdout",
     "output_type": "stream",
     "text": [
      "   null_rating_id\n",
      "0               0\n",
      "   null_book_id\n",
      "0             0\n"
     ]
    }
   ],
   "source": [
    "# Valores ausentes\n",
    "print(pd.io.sql.read_sql(table_4_rating_id_nulls, con = engine))\n",
    "print(pd.io.sql.read_sql(table4_book_id_nulls, con = engine))"
   ]
  },
  {
   "cell_type": "markdown",
   "metadata": {},
   "source": [
    "**NO existen valores nulos en nuestra tabla de calificaciones.**"
   ]
  },
  {
   "cell_type": "code",
   "execution_count": 23,
   "metadata": {},
   "outputs": [
    {
     "data": {
      "text/html": [
       "<div>\n",
       "<style scoped>\n",
       "    .dataframe tbody tr th:only-of-type {\n",
       "        vertical-align: middle;\n",
       "    }\n",
       "\n",
       "    .dataframe tbody tr th {\n",
       "        vertical-align: top;\n",
       "    }\n",
       "\n",
       "    .dataframe thead th {\n",
       "        text-align: right;\n",
       "    }\n",
       "</style>\n",
       "<table border=\"1\" class=\"dataframe\">\n",
       "  <thead>\n",
       "    <tr style=\"text-align: right;\">\n",
       "      <th></th>\n",
       "      <th>rating_id</th>\n",
       "      <th>book_id</th>\n",
       "      <th>num_rep</th>\n",
       "    </tr>\n",
       "  </thead>\n",
       "  <tbody>\n",
       "  </tbody>\n",
       "</table>\n",
       "</div>"
      ],
      "text/plain": [
       "Empty DataFrame\n",
       "Columns: [rating_id, book_id, num_rep]\n",
       "Index: []"
      ]
     },
     "execution_count": 23,
     "metadata": {},
     "output_type": "execute_result"
    }
   ],
   "source": [
    "# Valores duplicados\n",
    "dup_ratings = (\"\"\"\n",
    "\n",
    "SELECT\n",
    "    rating_id, book_id,\n",
    "    COUNT(*) AS num_rep\n",
    "\n",
    "FROM \n",
    "    ratings\n",
    "\n",
    "GROUP BY\n",
    "    rating_id, book_id\n",
    "\n",
    "HAVING\n",
    "    COUNT(*)>1;\n",
    "    \n",
    "    \"\"\")\n",
    "\n",
    "# Leemos los valores duplicados\n",
    "pd.io.sql.read_sql(dup_ratings, con = engine)"
   ]
  },
  {
   "cell_type": "markdown",
   "metadata": {},
   "source": [
    "**No existen registros duplicados en la tabla ratings.**"
   ]
  },
  {
   "cell_type": "markdown",
   "metadata": {},
   "source": [
    "#### Quinta tabla: reviews"
   ]
  },
  {
   "cell_type": "code",
   "execution_count": 24,
   "metadata": {},
   "outputs": [],
   "source": [
    "# Cargamos la tabla \n",
    "reviews = \"\"\"SELECT * \n",
    "\n",
    "FROM\n",
    "    reviews\n",
    "    \n",
    "LIMIT 5;\n",
    "\n",
    "    \"\"\""
   ]
  },
  {
   "cell_type": "code",
   "execution_count": 25,
   "metadata": {
    "scrolled": true
   },
   "outputs": [
    {
     "data": {
      "text/html": [
       "<div>\n",
       "<style scoped>\n",
       "    .dataframe tbody tr th:only-of-type {\n",
       "        vertical-align: middle;\n",
       "    }\n",
       "\n",
       "    .dataframe tbody tr th {\n",
       "        vertical-align: top;\n",
       "    }\n",
       "\n",
       "    .dataframe thead th {\n",
       "        text-align: right;\n",
       "    }\n",
       "</style>\n",
       "<table border=\"1\" class=\"dataframe\">\n",
       "  <thead>\n",
       "    <tr style=\"text-align: right;\">\n",
       "      <th></th>\n",
       "      <th>review_id</th>\n",
       "      <th>book_id</th>\n",
       "      <th>username</th>\n",
       "      <th>text</th>\n",
       "    </tr>\n",
       "  </thead>\n",
       "  <tbody>\n",
       "    <tr>\n",
       "      <th>0</th>\n",
       "      <td>1</td>\n",
       "      <td>1</td>\n",
       "      <td>brandtandrea</td>\n",
       "      <td>Mention society tell send professor analysis. ...</td>\n",
       "    </tr>\n",
       "    <tr>\n",
       "      <th>1</th>\n",
       "      <td>2</td>\n",
       "      <td>1</td>\n",
       "      <td>ryanfranco</td>\n",
       "      <td>Foot glass pretty audience hit themselves. Amo...</td>\n",
       "    </tr>\n",
       "    <tr>\n",
       "      <th>2</th>\n",
       "      <td>3</td>\n",
       "      <td>2</td>\n",
       "      <td>lorichen</td>\n",
       "      <td>Listen treat keep worry. Miss husband tax but ...</td>\n",
       "    </tr>\n",
       "    <tr>\n",
       "      <th>3</th>\n",
       "      <td>4</td>\n",
       "      <td>3</td>\n",
       "      <td>johnsonamanda</td>\n",
       "      <td>Finally month interesting blue could nature cu...</td>\n",
       "    </tr>\n",
       "    <tr>\n",
       "      <th>4</th>\n",
       "      <td>5</td>\n",
       "      <td>3</td>\n",
       "      <td>scotttamara</td>\n",
       "      <td>Nation purpose heavy give wait song will. List...</td>\n",
       "    </tr>\n",
       "  </tbody>\n",
       "</table>\n",
       "</div>"
      ],
      "text/plain": [
       "   review_id  book_id       username  \\\n",
       "0          1        1   brandtandrea   \n",
       "1          2        1     ryanfranco   \n",
       "2          3        2       lorichen   \n",
       "3          4        3  johnsonamanda   \n",
       "4          5        3    scotttamara   \n",
       "\n",
       "                                                text  \n",
       "0  Mention society tell send professor analysis. ...  \n",
       "1  Foot glass pretty audience hit themselves. Amo...  \n",
       "2  Listen treat keep worry. Miss husband tax but ...  \n",
       "3  Finally month interesting blue could nature cu...  \n",
       "4  Nation purpose heavy give wait song will. List...  "
      ]
     },
     "execution_count": 25,
     "metadata": {},
     "output_type": "execute_result"
    }
   ],
   "source": [
    "# Leemos las 5 primeras filas del archivo\n",
    "pd.io.sql.read_sql(reviews, con = engine)"
   ]
  },
  {
   "cell_type": "markdown",
   "metadata": {},
   "source": [
    "**Descripión de los datos:**\n",
    "\n",
    "- `review_id`: identificación de la reseña.\n",
    "- `book_id`: identificación del libro.\n",
    "- `username`: el nombre del usuario que revisó el libro.\n",
    "- `text`: el texto de la reseña."
   ]
  },
  {
   "cell_type": "markdown",
   "metadata": {},
   "source": [
    "**Valores nulos y duplicados:**"
   ]
  },
  {
   "cell_type": "code",
   "execution_count": 26,
   "metadata": {
    "scrolled": true
   },
   "outputs": [],
   "source": [
    "# Valores nulos\n",
    "table5_review_id_nulls = (\"\"\"\n",
    "SELECT COUNT(review_id) AS null_review_id FROM reviews WHERE review_id IS NULL;\n",
    "\"\"\")\n",
    "table5_book_id_nulls = (\"\"\"\n",
    "SELECT COUNT(book_id) AS null_book_id FROM reviews WHERE book_id IS NULL;\n",
    "\"\"\")\n",
    "table5_username_nulls = (\"\"\"\n",
    "SELECT COUNT(username) AS null_username FROM reviews WHERE username IS NULL;\n",
    "\"\"\")\n",
    "table5_text_nulls = (\"\"\"\n",
    "SELECT COUNT(text) AS null_text FROM reviews WHERE text IS NULL;\n",
    "\"\"\")"
   ]
  },
  {
   "cell_type": "code",
   "execution_count": 27,
   "metadata": {
    "scrolled": false
   },
   "outputs": [
    {
     "name": "stdout",
     "output_type": "stream",
     "text": [
      "   null_review_id\n",
      "0               0\n",
      "   null_book_id\n",
      "0             0\n",
      "   null_username\n",
      "0              0\n",
      "   null_text\n",
      "0          0\n"
     ]
    }
   ],
   "source": [
    "# Valores ausentes\n",
    "print(pd.io.sql.read_sql(table5_review_id_nulls, con = engine))\n",
    "print(pd.io.sql.read_sql(table5_book_id_nulls, con = engine))\n",
    "print(pd.io.sql.read_sql(table5_username_nulls, con = engine))\n",
    "print(pd.io.sql.read_sql(table5_text_nulls, con = engine))"
   ]
  },
  {
   "cell_type": "markdown",
   "metadata": {},
   "source": [
    "**NO existen valores nulos en nuestra tabla de reviews.**"
   ]
  },
  {
   "cell_type": "code",
   "execution_count": 28,
   "metadata": {},
   "outputs": [
    {
     "data": {
      "text/html": [
       "<div>\n",
       "<style scoped>\n",
       "    .dataframe tbody tr th:only-of-type {\n",
       "        vertical-align: middle;\n",
       "    }\n",
       "\n",
       "    .dataframe tbody tr th {\n",
       "        vertical-align: top;\n",
       "    }\n",
       "\n",
       "    .dataframe thead th {\n",
       "        text-align: right;\n",
       "    }\n",
       "</style>\n",
       "<table border=\"1\" class=\"dataframe\">\n",
       "  <thead>\n",
       "    <tr style=\"text-align: right;\">\n",
       "      <th></th>\n",
       "      <th>review_id</th>\n",
       "      <th>book_id</th>\n",
       "      <th>username</th>\n",
       "      <th>text</th>\n",
       "      <th>num_rep</th>\n",
       "    </tr>\n",
       "  </thead>\n",
       "  <tbody>\n",
       "  </tbody>\n",
       "</table>\n",
       "</div>"
      ],
      "text/plain": [
       "Empty DataFrame\n",
       "Columns: [review_id, book_id, username, text, num_rep]\n",
       "Index: []"
      ]
     },
     "execution_count": 28,
     "metadata": {},
     "output_type": "execute_result"
    }
   ],
   "source": [
    "# Valores duplicados\n",
    "dup_reviews = (\"\"\"\n",
    "\n",
    "SELECT\n",
    "    review_id, book_id, username, text,\n",
    "    COUNT(*) AS num_rep\n",
    "\n",
    "FROM \n",
    "    reviews\n",
    "\n",
    "GROUP BY\n",
    "    review_id, book_id, username, text\n",
    "\n",
    "HAVING\n",
    "    COUNT(*)>1;\n",
    "    \n",
    "    \"\"\")\n",
    "\n",
    "# Leemos los valores duplicados\n",
    "pd.io.sql.read_sql(dup_reviews, con = engine)"
   ]
  },
  {
   "cell_type": "markdown",
   "metadata": {},
   "source": [
    "**No existen registros duplicados en la tabla reviews.**"
   ]
  },
  {
   "cell_type": "markdown",
   "metadata": {},
   "source": [
    "**De acuerdo a lo observado en las tablas, no existen valores ausentes ni duplicados en alguna de ellas.**"
   ]
  },
  {
   "cell_type": "markdown",
   "metadata": {},
   "source": [
    "## Consultas SQL"
   ]
  },
  {
   "cell_type": "markdown",
   "metadata": {},
   "source": [
    "Comenzamos a responder algunas de las interrogantes planteadas para generar ideas que puedan dar valor a ideas innovadoras de productos."
   ]
  },
  {
   "cell_type": "markdown",
   "metadata": {},
   "source": [
    "### Primera tarea: Número de libros publicados post año 2000"
   ]
  },
  {
   "cell_type": "code",
   "execution_count": 29,
   "metadata": {},
   "outputs": [
    {
     "data": {
      "text/html": [
       "<div>\n",
       "<style scoped>\n",
       "    .dataframe tbody tr th:only-of-type {\n",
       "        vertical-align: middle;\n",
       "    }\n",
       "\n",
       "    .dataframe tbody tr th {\n",
       "        vertical-align: top;\n",
       "    }\n",
       "\n",
       "    .dataframe thead th {\n",
       "        text-align: right;\n",
       "    }\n",
       "</style>\n",
       "<table border=\"1\" class=\"dataframe\">\n",
       "  <thead>\n",
       "    <tr style=\"text-align: right;\">\n",
       "      <th></th>\n",
       "      <th>cant_de_libros</th>\n",
       "    </tr>\n",
       "  </thead>\n",
       "  <tbody>\n",
       "    <tr>\n",
       "      <th>0</th>\n",
       "      <td>819</td>\n",
       "    </tr>\n",
       "  </tbody>\n",
       "</table>\n",
       "</div>"
      ],
      "text/plain": [
       "   cant_de_libros\n",
       "0             819"
      ]
     },
     "execution_count": 29,
     "metadata": {},
     "output_type": "execute_result"
    }
   ],
   "source": [
    "# Primera búsqueda\n",
    "query1 = (\"\"\"\n",
    "\n",
    "SELECT  \n",
    "    COUNT(DISTINCT book_id) AS cant_de_libros\n",
    "\n",
    "FROM\n",
    "    books\n",
    "    \n",
    "WHERE \n",
    "    publication_date > '2000-01-01'\n",
    "    \"\"\")\n",
    "\n",
    "# Mostramos la búsqueda\n",
    "pd.io.sql.read_sql(query1, con = engine)"
   ]
  },
  {
   "cell_type": "markdown",
   "metadata": {},
   "source": [
    "**Luego del 1 de enero del año 2000 se han publicado 819 libros.**"
   ]
  },
  {
   "cell_type": "markdown",
   "metadata": {},
   "source": [
    "### Segunda tarea: Número de reseñas de usuarios y calificación promedio de cada libro"
   ]
  },
  {
   "cell_type": "code",
   "execution_count": 30,
   "metadata": {
    "scrolled": true
   },
   "outputs": [
    {
     "data": {
      "text/html": [
       "<div>\n",
       "<style scoped>\n",
       "    .dataframe tbody tr th:only-of-type {\n",
       "        vertical-align: middle;\n",
       "    }\n",
       "\n",
       "    .dataframe tbody tr th {\n",
       "        vertical-align: top;\n",
       "    }\n",
       "\n",
       "    .dataframe thead th {\n",
       "        text-align: right;\n",
       "    }\n",
       "</style>\n",
       "<table border=\"1\" class=\"dataframe\">\n",
       "  <thead>\n",
       "    <tr style=\"text-align: right;\">\n",
       "      <th></th>\n",
       "      <th>book_id</th>\n",
       "      <th>title</th>\n",
       "      <th>total_reviews</th>\n",
       "      <th>avg_rating</th>\n",
       "    </tr>\n",
       "  </thead>\n",
       "  <tbody>\n",
       "    <tr>\n",
       "      <th>0</th>\n",
       "      <td>948</td>\n",
       "      <td>Twilight (Twilight  #1)</td>\n",
       "      <td>7</td>\n",
       "      <td>3.662500</td>\n",
       "    </tr>\n",
       "    <tr>\n",
       "      <th>1</th>\n",
       "      <td>854</td>\n",
       "      <td>The Road</td>\n",
       "      <td>6</td>\n",
       "      <td>3.772727</td>\n",
       "    </tr>\n",
       "    <tr>\n",
       "      <th>2</th>\n",
       "      <td>656</td>\n",
       "      <td>The Book Thief</td>\n",
       "      <td>6</td>\n",
       "      <td>4.264151</td>\n",
       "    </tr>\n",
       "    <tr>\n",
       "      <th>3</th>\n",
       "      <td>734</td>\n",
       "      <td>The Glass Castle</td>\n",
       "      <td>6</td>\n",
       "      <td>4.206897</td>\n",
       "    </tr>\n",
       "    <tr>\n",
       "      <th>4</th>\n",
       "      <td>963</td>\n",
       "      <td>Water for Elephants</td>\n",
       "      <td>6</td>\n",
       "      <td>3.977273</td>\n",
       "    </tr>\n",
       "    <tr>\n",
       "      <th>...</th>\n",
       "      <td>...</td>\n",
       "      <td>...</td>\n",
       "      <td>...</td>\n",
       "      <td>...</td>\n",
       "    </tr>\n",
       "    <tr>\n",
       "      <th>989</th>\n",
       "      <td>465</td>\n",
       "      <td>Naked Empire (Sword of Truth  #8)</td>\n",
       "      <td>1</td>\n",
       "      <td>3.500000</td>\n",
       "    </tr>\n",
       "    <tr>\n",
       "      <th>990</th>\n",
       "      <td>446</td>\n",
       "      <td>Moo  Baa  La La La!</td>\n",
       "      <td>1</td>\n",
       "      <td>3.000000</td>\n",
       "    </tr>\n",
       "    <tr>\n",
       "      <th>991</th>\n",
       "      <td>431</td>\n",
       "      <td>Merrick (The Vampire Chronicles #7)</td>\n",
       "      <td>1</td>\n",
       "      <td>4.000000</td>\n",
       "    </tr>\n",
       "    <tr>\n",
       "      <th>992</th>\n",
       "      <td>92</td>\n",
       "      <td>Babyville</td>\n",
       "      <td>1</td>\n",
       "      <td>3.500000</td>\n",
       "    </tr>\n",
       "    <tr>\n",
       "      <th>993</th>\n",
       "      <td>413</td>\n",
       "      <td>Lysistrata</td>\n",
       "      <td>1</td>\n",
       "      <td>4.000000</td>\n",
       "    </tr>\n",
       "  </tbody>\n",
       "</table>\n",
       "<p>994 rows × 4 columns</p>\n",
       "</div>"
      ],
      "text/plain": [
       "     book_id                                title  total_reviews  avg_rating\n",
       "0        948              Twilight (Twilight  #1)              7    3.662500\n",
       "1        854                             The Road              6    3.772727\n",
       "2        656                       The Book Thief              6    4.264151\n",
       "3        734                     The Glass Castle              6    4.206897\n",
       "4        963                  Water for Elephants              6    3.977273\n",
       "..       ...                                  ...            ...         ...\n",
       "989      465    Naked Empire (Sword of Truth  #8)              1    3.500000\n",
       "990      446                  Moo  Baa  La La La!              1    3.000000\n",
       "991      431  Merrick (The Vampire Chronicles #7)              1    4.000000\n",
       "992       92                            Babyville              1    3.500000\n",
       "993      413                           Lysistrata              1    4.000000\n",
       "\n",
       "[994 rows x 4 columns]"
      ]
     },
     "execution_count": 30,
     "metadata": {},
     "output_type": "execute_result"
    }
   ],
   "source": [
    "# Segunda búsqueda Encontrar el número de reseñas de usuarios y la calificación promedio para cada libro.\n",
    "query2 = (\"\"\" \n",
    "\n",
    "WITH  n_reviews AS(\n",
    "\n",
    "    SELECT\n",
    "        book_id,\n",
    "        COUNT(*) AS total_reviews\n",
    "    FROM\n",
    "        reviews    \n",
    "    GROUP BY \n",
    "        book_id\n",
    "),\n",
    "\n",
    "avg_ratings AS (\n",
    "\n",
    "    SELECT\n",
    "        book_id,\n",
    "        AVG(rating) AS avg_rating\n",
    "    FROM\n",
    "        ratings  \n",
    "    GROUP BY \n",
    "        book_id\n",
    ")\n",
    "\n",
    "SELECT  \n",
    "    books.book_id,\n",
    "    books.title,\n",
    "    n_reviews.total_reviews,\n",
    "    avg_ratings.avg_rating\n",
    "            \n",
    "FROM\n",
    "    books  \n",
    "\n",
    "LEFT JOIN  n_reviews \n",
    "    ON n_reviews.book_id = books.book_id\n",
    "            \n",
    "LEFT JOIN  avg_ratings \n",
    "    ON avg_ratings.book_id = books.book_id\n",
    "    \n",
    "WHERE\n",
    "    n_reviews.total_reviews IS NOT NULL\n",
    "\n",
    "ORDER BY\n",
    "    n_reviews.total_reviews  DESC;\n",
    "    \"\"\")\n",
    "\n",
    "# Mostramos la búsqueda\n",
    "pd.io.sql.read_sql(query2, con = engine)"
   ]
  },
  {
   "cell_type": "markdown",
   "metadata": {},
   "source": [
    "- Los cantidad máxima de reseñas por libro es de 7, para *Twilight*. La calificación media que los usuarios le dan a este libro es de 3.66. Es el único libro que tiene esta cantidad de reseñas.\n",
    "\n",
    "- Luego siguen libros con 6 reseñas, como por ejemplo: *The Road*, *The book thief*, *The Glass Castle* y *Water for Elephants*, entre otros."
   ]
  },
  {
   "cell_type": "markdown",
   "metadata": {},
   "source": [
    "### Tercera tarea: Editorial con mayor número de libros de más de 50 páginas"
   ]
  },
  {
   "cell_type": "code",
   "execution_count": 31,
   "metadata": {},
   "outputs": [
    {
     "data": {
      "text/html": [
       "<div>\n",
       "<style scoped>\n",
       "    .dataframe tbody tr th:only-of-type {\n",
       "        vertical-align: middle;\n",
       "    }\n",
       "\n",
       "    .dataframe tbody tr th {\n",
       "        vertical-align: top;\n",
       "    }\n",
       "\n",
       "    .dataframe thead th {\n",
       "        text-align: right;\n",
       "    }\n",
       "</style>\n",
       "<table border=\"1\" class=\"dataframe\">\n",
       "  <thead>\n",
       "    <tr style=\"text-align: right;\">\n",
       "      <th></th>\n",
       "      <th>id_editorial</th>\n",
       "      <th>nombre_editorial</th>\n",
       "      <th>cant_libros</th>\n",
       "    </tr>\n",
       "  </thead>\n",
       "  <tbody>\n",
       "    <tr>\n",
       "      <th>0</th>\n",
       "      <td>212</td>\n",
       "      <td>Penguin Books</td>\n",
       "      <td>42</td>\n",
       "    </tr>\n",
       "    <tr>\n",
       "      <th>1</th>\n",
       "      <td>309</td>\n",
       "      <td>Vintage</td>\n",
       "      <td>31</td>\n",
       "    </tr>\n",
       "    <tr>\n",
       "      <th>2</th>\n",
       "      <td>116</td>\n",
       "      <td>Grand Central Publishing</td>\n",
       "      <td>25</td>\n",
       "    </tr>\n",
       "    <tr>\n",
       "      <th>3</th>\n",
       "      <td>217</td>\n",
       "      <td>Penguin Classics</td>\n",
       "      <td>24</td>\n",
       "    </tr>\n",
       "    <tr>\n",
       "      <th>4</th>\n",
       "      <td>35</td>\n",
       "      <td>Bantam</td>\n",
       "      <td>19</td>\n",
       "    </tr>\n",
       "    <tr>\n",
       "      <th>...</th>\n",
       "      <td>...</td>\n",
       "      <td>...</td>\n",
       "      <td>...</td>\n",
       "    </tr>\n",
       "    <tr>\n",
       "      <th>329</th>\n",
       "      <td>238</td>\n",
       "      <td>Random House Anchor</td>\n",
       "      <td>1</td>\n",
       "    </tr>\n",
       "    <tr>\n",
       "      <th>330</th>\n",
       "      <td>239</td>\n",
       "      <td>Random House Audio Publishing Group</td>\n",
       "      <td>1</td>\n",
       "    </tr>\n",
       "    <tr>\n",
       "      <th>331</th>\n",
       "      <td>241</td>\n",
       "      <td>Random House Large Print Publishing</td>\n",
       "      <td>1</td>\n",
       "    </tr>\n",
       "    <tr>\n",
       "      <th>332</th>\n",
       "      <td>242</td>\n",
       "      <td>Random House Trade</td>\n",
       "      <td>1</td>\n",
       "    </tr>\n",
       "    <tr>\n",
       "      <th>333</th>\n",
       "      <td>244</td>\n",
       "      <td>Random House Vintage</td>\n",
       "      <td>1</td>\n",
       "    </tr>\n",
       "  </tbody>\n",
       "</table>\n",
       "<p>334 rows × 3 columns</p>\n",
       "</div>"
      ],
      "text/plain": [
       "     id_editorial                     nombre_editorial  cant_libros\n",
       "0             212                        Penguin Books           42\n",
       "1             309                              Vintage           31\n",
       "2             116             Grand Central Publishing           25\n",
       "3             217                     Penguin Classics           24\n",
       "4              35                               Bantam           19\n",
       "..            ...                                  ...          ...\n",
       "329           238                  Random House Anchor            1\n",
       "330           239  Random House Audio Publishing Group            1\n",
       "331           241  Random House Large Print Publishing            1\n",
       "332           242                   Random House Trade            1\n",
       "333           244                 Random House Vintage            1\n",
       "\n",
       "[334 rows x 3 columns]"
      ]
     },
     "execution_count": 31,
     "metadata": {},
     "output_type": "execute_result"
    }
   ],
   "source": [
    "# Tercera búsqueda\n",
    "query3= (\"\"\" \n",
    "\n",
    "SELECT \n",
    "    publishers.publisher_id AS id_editorial, \n",
    "    publishers.publisher AS nombre_editorial,\n",
    "    COUNT(DISTINCT books.book_id) AS cant_libros\n",
    "\n",
    "FROM\n",
    "    books\n",
    "    LEFT JOIN publishers ON books.publisher_id = publishers.publisher_id\n",
    "\n",
    "WHERE\n",
    "    books.num_pages > 50\n",
    "    \n",
    "GROUP BY\n",
    "    id_editorial\n",
    "    \n",
    "ORDER BY\n",
    "    cant_libros DESC;\n",
    "    \n",
    "        \"\"\")\n",
    "\n",
    "# Mostramos la búsqueda\n",
    "pd.io.sql.read_sql(query3, con = engine)"
   ]
  },
  {
   "cell_type": "markdown",
   "metadata": {},
   "source": [
    "Uno de los objetivos de esta tarea es excluir los folletos y publicaciones similares del análisis para dejar solo los considerados libros propiamente tal.\n",
    "\n",
    "- La editorial **Penguin Books** es la que más libros de más de 50 páginas posee. Tiene un total de **42 libros**.\n",
    "- La segunda editorial con más libros es **Vintage** con 31 libros.\n",
    "- Hasta el cuarto lugar se mantienen sobre los 20 libros que superan las 50 páginas."
   ]
  },
  {
   "cell_type": "markdown",
   "metadata": {},
   "source": [
    "### Cuarta tarea: Autor con la mejor calificación promedio por libros."
   ]
  },
  {
   "cell_type": "code",
   "execution_count": 32,
   "metadata": {
    "scrolled": false
   },
   "outputs": [
    {
     "data": {
      "text/html": [
       "<div>\n",
       "<style scoped>\n",
       "    .dataframe tbody tr th:only-of-type {\n",
       "        vertical-align: middle;\n",
       "    }\n",
       "\n",
       "    .dataframe tbody tr th {\n",
       "        vertical-align: top;\n",
       "    }\n",
       "\n",
       "    .dataframe thead th {\n",
       "        text-align: right;\n",
       "    }\n",
       "</style>\n",
       "<table border=\"1\" class=\"dataframe\">\n",
       "  <thead>\n",
       "    <tr style=\"text-align: right;\">\n",
       "      <th></th>\n",
       "      <th>author_id</th>\n",
       "      <th>author</th>\n",
       "      <th>avg_rating</th>\n",
       "    </tr>\n",
       "  </thead>\n",
       "  <tbody>\n",
       "    <tr>\n",
       "      <th>0</th>\n",
       "      <td>257</td>\n",
       "      <td>James Patterson</td>\n",
       "      <td>5.00</td>\n",
       "    </tr>\n",
       "    <tr>\n",
       "      <th>1</th>\n",
       "      <td>557</td>\n",
       "      <td>Steven Johnson</td>\n",
       "      <td>5.00</td>\n",
       "    </tr>\n",
       "    <tr>\n",
       "      <th>2</th>\n",
       "      <td>567</td>\n",
       "      <td>Tamora Pierce</td>\n",
       "      <td>5.00</td>\n",
       "    </tr>\n",
       "    <tr>\n",
       "      <th>3</th>\n",
       "      <td>250</td>\n",
       "      <td>James Clavell</td>\n",
       "      <td>5.00</td>\n",
       "    </tr>\n",
       "    <tr>\n",
       "      <th>4</th>\n",
       "      <td>449</td>\n",
       "      <td>Nigella Lawson</td>\n",
       "      <td>5.00</td>\n",
       "    </tr>\n",
       "    <tr>\n",
       "      <th>...</th>\n",
       "      <td>...</td>\n",
       "      <td>...</td>\n",
       "      <td>...</td>\n",
       "    </tr>\n",
       "    <tr>\n",
       "      <th>995</th>\n",
       "      <td>580</td>\n",
       "      <td>Thomas L. Friedman</td>\n",
       "      <td>2.25</td>\n",
       "    </tr>\n",
       "    <tr>\n",
       "      <th>996</th>\n",
       "      <td>625</td>\n",
       "      <td>William S. Burroughs/Oliver  Harris/Allen Gins...</td>\n",
       "      <td>2.00</td>\n",
       "    </tr>\n",
       "    <tr>\n",
       "      <th>997</th>\n",
       "      <td>321</td>\n",
       "      <td>Joseph J. Ellis</td>\n",
       "      <td>2.00</td>\n",
       "    </tr>\n",
       "    <tr>\n",
       "      <th>998</th>\n",
       "      <td>91</td>\n",
       "      <td>Christina Schwarz</td>\n",
       "      <td>2.00</td>\n",
       "    </tr>\n",
       "    <tr>\n",
       "      <th>999</th>\n",
       "      <td>291</td>\n",
       "      <td>Jodi Picoult</td>\n",
       "      <td>1.50</td>\n",
       "    </tr>\n",
       "  </tbody>\n",
       "</table>\n",
       "<p>1000 rows × 3 columns</p>\n",
       "</div>"
      ],
      "text/plain": [
       "     author_id                                             author  avg_rating\n",
       "0          257                                    James Patterson        5.00\n",
       "1          557                                     Steven Johnson        5.00\n",
       "2          567                                      Tamora Pierce        5.00\n",
       "3          250                                      James Clavell        5.00\n",
       "4          449                                     Nigella Lawson        5.00\n",
       "..         ...                                                ...         ...\n",
       "995        580                                 Thomas L. Friedman        2.25\n",
       "996        625  William S. Burroughs/Oliver  Harris/Allen Gins...        2.00\n",
       "997        321                                    Joseph J. Ellis        2.00\n",
       "998         91                                  Christina Schwarz        2.00\n",
       "999        291                                       Jodi Picoult        1.50\n",
       "\n",
       "[1000 rows x 3 columns]"
      ]
     },
     "execution_count": 32,
     "metadata": {},
     "output_type": "execute_result"
    }
   ],
   "source": [
    "# Cuarta búsqueda\n",
    "query4= (\"\"\" \n",
    "\n",
    "WITH avg_ratings AS (\n",
    "\n",
    "    SELECT\n",
    "        book_id,\n",
    "        AVG(rating) AS avg_rating\n",
    "    FROM\n",
    "        ratings  \n",
    "    GROUP BY \n",
    "        book_id\n",
    "),\n",
    "\n",
    "best_autor AS (\n",
    "\n",
    "    SELECT\n",
    "        author_id,\n",
    "        author\n",
    "    FROM\n",
    "        authors\n",
    "    GROUP BY\n",
    "        author_id\n",
    ")\n",
    "\n",
    "SELECT\n",
    "    best_autor.author_id,\n",
    "    best_autor.author,\n",
    "    avg_ratings.avg_rating\n",
    "\n",
    "FROM\n",
    "    books\n",
    "    \n",
    "LEFT JOIN avg_ratings \n",
    "    ON avg_ratings.book_id = books.book_id\n",
    "\n",
    "LEFT JOIN best_autor\n",
    "    ON best_autor.author_id = books.author_id\n",
    "    \n",
    "\n",
    "ORDER BY\n",
    "    avg_ratings.avg_rating DESC;\n",
    "    \n",
    "        \"\"\")\n",
    "\n",
    "# Mostramos la búsqueda\n",
    "pd.io.sql.read_sql(query4, con = engine)"
   ]
  },
  {
   "cell_type": "markdown",
   "metadata": {},
   "source": [
    "- Existen varios autores con una calificación promedia perfecta de 5.\n",
    "- Algunos de los que podemos destacar, son: James Patterson, Steven Johnson, Tamora Pierce y James Clavell."
   ]
  },
  {
   "cell_type": "markdown",
   "metadata": {},
   "source": [
    "### Quinta tarea: Número promedio de reseñas entre usuarios que calificaron más de 50 libros."
   ]
  },
  {
   "cell_type": "code",
   "execution_count": 33,
   "metadata": {
    "scrolled": true
   },
   "outputs": [
    {
     "data": {
      "text/html": [
       "<div>\n",
       "<style scoped>\n",
       "    .dataframe tbody tr th:only-of-type {\n",
       "        vertical-align: middle;\n",
       "    }\n",
       "\n",
       "    .dataframe tbody tr th {\n",
       "        vertical-align: top;\n",
       "    }\n",
       "\n",
       "    .dataframe thead th {\n",
       "        text-align: right;\n",
       "    }\n",
       "</style>\n",
       "<table border=\"1\" class=\"dataframe\">\n",
       "  <thead>\n",
       "    <tr style=\"text-align: right;\">\n",
       "      <th></th>\n",
       "      <th>promedio_reseñas</th>\n",
       "    </tr>\n",
       "  </thead>\n",
       "  <tbody>\n",
       "    <tr>\n",
       "      <th>0</th>\n",
       "      <td>211.333333</td>\n",
       "    </tr>\n",
       "  </tbody>\n",
       "</table>\n",
       "</div>"
      ],
      "text/plain": [
       "   promedio_reseñas\n",
       "0        211.333333"
      ]
     },
     "execution_count": 33,
     "metadata": {},
     "output_type": "execute_result"
    }
   ],
   "source": [
    "# Quinta búsqueda\n",
    "query5 = (\"\"\"\n",
    "\n",
    "WITH rev AS(\n",
    "\n",
    "SELECT\n",
    "    review_id,\n",
    "    book_id\n",
    "FROM\n",
    "    reviews\n",
    "),\n",
    "\n",
    "user_counts AS (\n",
    "\n",
    "SELECT \n",
    "    COUNT(DISTINCT ratings.rating_id) AS rating_counts,\n",
    "    username,\n",
    "    COUNT(DISTINCT review_id) AS count_reviews\n",
    "\n",
    "FROM\n",
    "    ratings\n",
    "\n",
    "LEFT JOIN rev\n",
    "    ON rev.book_id = ratings.book_id\n",
    "\n",
    "GROUP BY\n",
    "    username\n",
    "\n",
    ")\n",
    "\n",
    "SELECT\n",
    "    AVG(user_counts.count_reviews) AS promedio_reseñas\n",
    "\n",
    "FROM\n",
    "    user_counts\n",
    "\n",
    "WHERE\n",
    "    user_counts.rating_counts > 50;\n",
    "\n",
    "\"\"\")\n",
    "\n",
    "# Mostramos la búsqueda\n",
    "pd.io.sql.read_sql(query5, con = engine)"
   ]
  },
  {
   "cell_type": "markdown",
   "metadata": {},
   "source": [
    "**Los usuarios más activos en calificaciones de libros tienen un promedio de 211 reseñas. Queda claro que los usuarios que tienen una alta participación en las calificaciones también lo hacen comentando y dejando alguna reseña.**"
   ]
  },
  {
   "cell_type": "code",
   "execution_count": 34,
   "metadata": {
    "scrolled": false
   },
   "outputs": [
    {
     "data": {
      "text/html": [
       "<div>\n",
       "<style scoped>\n",
       "    .dataframe tbody tr th:only-of-type {\n",
       "        vertical-align: middle;\n",
       "    }\n",
       "\n",
       "    .dataframe tbody tr th {\n",
       "        vertical-align: top;\n",
       "    }\n",
       "\n",
       "    .dataframe thead th {\n",
       "        text-align: right;\n",
       "    }\n",
       "</style>\n",
       "<table border=\"1\" class=\"dataframe\">\n",
       "  <thead>\n",
       "    <tr style=\"text-align: right;\">\n",
       "      <th></th>\n",
       "      <th>rating_counts</th>\n",
       "      <th>username</th>\n",
       "      <th>count_reviews</th>\n",
       "    </tr>\n",
       "  </thead>\n",
       "  <tbody>\n",
       "    <tr>\n",
       "      <th>0</th>\n",
       "      <td>42</td>\n",
       "      <td>abbottjames</td>\n",
       "      <td>179</td>\n",
       "    </tr>\n",
       "    <tr>\n",
       "      <th>1</th>\n",
       "      <td>36</td>\n",
       "      <td>abigailmoore</td>\n",
       "      <td>138</td>\n",
       "    </tr>\n",
       "    <tr>\n",
       "      <th>2</th>\n",
       "      <td>41</td>\n",
       "      <td>adamsabigail</td>\n",
       "      <td>169</td>\n",
       "    </tr>\n",
       "    <tr>\n",
       "      <th>3</th>\n",
       "      <td>37</td>\n",
       "      <td>alison92</td>\n",
       "      <td>151</td>\n",
       "    </tr>\n",
       "    <tr>\n",
       "      <th>4</th>\n",
       "      <td>47</td>\n",
       "      <td>amy97</td>\n",
       "      <td>183</td>\n",
       "    </tr>\n",
       "    <tr>\n",
       "      <th>...</th>\n",
       "      <td>...</td>\n",
       "      <td>...</td>\n",
       "      <td>...</td>\n",
       "    </tr>\n",
       "    <tr>\n",
       "      <th>155</th>\n",
       "      <td>40</td>\n",
       "      <td>yvonnevillarreal</td>\n",
       "      <td>165</td>\n",
       "    </tr>\n",
       "    <tr>\n",
       "      <th>156</th>\n",
       "      <td>36</td>\n",
       "      <td>yweeks</td>\n",
       "      <td>147</td>\n",
       "    </tr>\n",
       "    <tr>\n",
       "      <th>157</th>\n",
       "      <td>35</td>\n",
       "      <td>zjohnston</td>\n",
       "      <td>144</td>\n",
       "    </tr>\n",
       "    <tr>\n",
       "      <th>158</th>\n",
       "      <td>37</td>\n",
       "      <td>znelson</td>\n",
       "      <td>146</td>\n",
       "    </tr>\n",
       "    <tr>\n",
       "      <th>159</th>\n",
       "      <td>46</td>\n",
       "      <td>zross</td>\n",
       "      <td>185</td>\n",
       "    </tr>\n",
       "  </tbody>\n",
       "</table>\n",
       "<p>160 rows × 3 columns</p>\n",
       "</div>"
      ],
      "text/plain": [
       "     rating_counts          username  count_reviews\n",
       "0               42       abbottjames            179\n",
       "1               36      abigailmoore            138\n",
       "2               41      adamsabigail            169\n",
       "3               37          alison92            151\n",
       "4               47             amy97            183\n",
       "..             ...               ...            ...\n",
       "155             40  yvonnevillarreal            165\n",
       "156             36            yweeks            147\n",
       "157             35         zjohnston            144\n",
       "158             37           znelson            146\n",
       "159             46             zross            185\n",
       "\n",
       "[160 rows x 3 columns]"
      ]
     },
     "execution_count": 34,
     "metadata": {},
     "output_type": "execute_result"
    }
   ],
   "source": [
    "subq1 = (\"\"\"\n",
    "\n",
    "WITH rev AS(\n",
    "\n",
    "SELECT\n",
    "    review_id,\n",
    "    book_id\n",
    "FROM\n",
    "    reviews\n",
    ")\n",
    "\n",
    "SELECT \n",
    "    COUNT(DISTINCT ratings.rating_id) AS rating_counts,\n",
    "    username,\n",
    "    COUNT(DISTINCT review_id) AS count_reviews\n",
    "\n",
    "FROM\n",
    "    ratings\n",
    "\n",
    "LEFT JOIN rev\n",
    "    ON rev.book_id = ratings.book_id\n",
    "\n",
    "GROUP BY\n",
    "    username;\n",
    "    \n",
    "\"\"\")\n",
    "\n",
    "# Mostramos la búsqueda\n",
    "pd.io.sql.read_sql(subq1, con = engine)"
   ]
  },
  {
   "cell_type": "markdown",
   "metadata": {},
   "source": [
    "## Conclusiones y recomendaciones"
   ]
  },
  {
   "cell_type": "markdown",
   "metadata": {},
   "source": [
    "De acuerdo a los objetivos planteados de generar valor a través de una propuesta para un nuevo producto (aplicación para libros); y de acuerdo a la base de datos estudiada, algunas relaciones a las que hemos llegado son las siguientes:\n",
    "\n",
    "   - Después del año 2000 se han publicado 819 libros. Es totalmente viable contar con el registro de esta cantidad de libros en una aplicación. Al contener un buscador apropiado para esta cantidad, no debería ser difícil que el usuario encuentre rápidamente lo que busca.\n",
    "    \n",
    "    \n",
    "   - La cantidad máxima de reseñas que llega a tener un libro es de 7. Este puede ser un valor adecuado para una visualización en aplicación sin cansar al usuario. También se aprecia que la mayoría de libros con más reseñas posee una alta calificación (más de 3.5 puntos de 5 en total). \n",
    "\n",
    "- Las editoriales que presentan una mayor cantidad de libros (de más de 50 páginas) tienen entre 20 y 50 libros en total. Para estas editoriales se puede establecer alguna distinción especial en la aplicación para que los usuarios se familiaricen con ellas.\n",
    "\n",
    "\n",
    "- Hay varios autores que tienen una calificación máxima de 5. Al igual que con las editoriales destacadas por cantidad, se puede establecer alguna distinción en la aplicación para los autores más valorados y así los usuarios conozcan su trabajo.\n",
    "\n",
    "\n",
    "- Los usuarios que realizan más calificaciones también escriben en promedio una alta cantidad de reseñas (211 aproximadamente). Por lo tanto, tenemos un nicho de usuarios bastante activo que puede participar y potenciar la información asociada a cada libro.\n",
    "\n",
    "\n",
    "Finalmente, podemos recomendar que el desarrollo de una aplicación de libros debiera estar enfocada en aquellos usuarios altamente activos que pueden nutrir esta misma en base a interacciones como valoraciones y reseñas. El crear una plataforma de búsqueda rápida donde se pueda distinguir fácil y visualmente a los autores y editoriales puede generar el valor apropiado para el público objetivo.\n"
   ]
  }
 ],
 "metadata": {
  "kernelspec": {
   "display_name": "Python 3 (ipykernel)",
   "language": "python",
   "name": "python3"
  },
  "language_info": {
   "codemirror_mode": {
    "name": "ipython",
    "version": 3
   },
   "file_extension": ".py",
   "mimetype": "text/x-python",
   "name": "python",
   "nbconvert_exporter": "python",
   "pygments_lexer": "ipython3",
   "version": "3.9.5"
  },
  "toc": {
   "base_numbering": 1,
   "nav_menu": {},
   "number_sections": true,
   "sideBar": true,
   "skip_h1_title": true,
   "title_cell": "Table of Contents",
   "title_sidebar": "Contents",
   "toc_cell": false,
   "toc_position": {},
   "toc_section_display": true,
   "toc_window_display": false
  }
 },
 "nbformat": 4,
 "nbformat_minor": 2
}
